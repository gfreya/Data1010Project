{
 "cells": [
  {
   "cell_type": "markdown",
   "metadata": {},
   "source": [
    "# SVD(Singular Value Decomposition) and PCA(Principle Component Analysis) in Image Processing\n",
    "> Relationship between SVD and PCA & Application in image processing.\n",
    "\n",
    "- toc: true \n",
    "- badges: true\n",
    "- comments: true\n",
    "- categories: [jupyter]\n",
    "- image: images/chart-preview.png"
   ]
  },
  {
   "cell_type": "code",
   "execution_count": 1,
   "metadata": {},
   "outputs": [],
   "source": [
    "using LinearAlgebra, Statistics, StatsBase;"
   ]
  },
  {
   "cell_type": "markdown",
   "metadata": {},
   "source": [
    "In many fields of research and application, it is usually necessary to observe the data with multiple variables, and then analyze and find the rules after collecting a large amount of data. Multivariate large data sets will undoubtedly provide rich information for research and application, but also increase the workload of data collection to a certain extent. More importantly, in many cases, there may be correlation among many variables, which increases the complexity of problem analysis. If each index is analyzed separately, the analysis is often isolated, and the information in the data can not be fully utilized. Therefore, the blind reduction of indicators will lose a lot of useful information, resulting in wrong conclusions."
   ]
  },
  {
   "cell_type": "markdown",
   "metadata": {},
   "source": [
    "We can have an intuitive example about the disaster gotten from high dimensional data. Different from text information, image information occupies a large capacity so that its storage and transmission will be greatly limited. Assume there is a still color image and its size is 600x800, which means it's 800 pixels long and 600 pixels wide and there are 480000 poxels on the screen. A pixel of a still color image needs three memory cells, so the single image needs $3*480000=1440000=1406.25$KB disk storage space. If the color image is transmitted at 24 frames per second, the amount of data per second is $24*1406.25$KB$\\approx33$MB, then a 640MB CD-ROM can only store about 20 seconds of original data. With the present technology, it is difficult to meet the storage and transmission needs of the original digital image. We all know that image processing is an important task in the field of machine learning, so it is inevitable that we have to do something on the target images to compress the images and extract important features."
   ]
  },
  {
   "cell_type": "markdown",
   "metadata": {},
   "source": [
    "Therefore, it is necessary to find a reasonable method to reduce the loss of information contained in the original indicators while reducing the indicators to be analyzed, so as to achieve the purpose of comprehensive analysis of the collected data. Since there is a certain correlation between the variables, we can consider changing the closely related variables into as few new variables as possible, so that these new variables are uncorrelated, then we can use less comprehensive indicators to represent the various kinds of information in each variable. Dimension reduction is a preprocessing method for high dimensional feature data. Dimension reduction is to preserve some of the most important features of high-dimensional data, remove noise and unimportant features, so as to improve the speed of data processing. In the actual production and application, dimension reduction can save us a lot of time and cost in a certain range of information loss. Dimension reduction has become a widely used data preprocessing method and the kind of reduction has several strong points: \n",
    "- Make the data set feasible to explore and utilize\n",
    "- Decrease the number of feartures (only reserve the most important features)\n",
    "- Make sure the independence between features\n",
    "- Decrease the cost of algorithms\n",
    "- Make the results understandable\n"
   ]
  },
  {
   "cell_type": "markdown",
   "metadata": {},
   "source": [
    "So how to reduce dimensions like image compressing and features extraction is worth deep thinking. Thanks to the SVD(singular value decomposition which is a descent algebraic transformation, we can use the optimal matrix decompostion to do the image compression. Meanwhile, there is another similar method called PCA(principle component analysis) which is also used the matrix transformation and decomposition. The two methods have some connections and differences, they also have their own advantages. I want to introduction the mathematical conceptions behind SVD and PCA, explain the connections and difference between the two methods and compare the two methods via same task.  "
   ]
  },
  {
   "cell_type": "markdown",
   "metadata": {},
   "source": [
    "## Mathematical Theory of SVD"
   ]
  },
  {
   "cell_type": "markdown",
   "metadata": {},
   "source": [
    "### Eigenvectors and Eigenvalues"
   ]
  },
  {
   "cell_type": "markdown",
   "metadata": {},
   "source": [
    "We first review the definitions of eigenvalues and eigenvectors as follows: $Ax = \\lambda x$. In this formula, $A$ is an *n* $\\times$ *n* real symmetric matrix, and $x$ is a vector of dimension n, then we say that $\\lambda$ is an eigenvalue of matrix $A$, and $x$ is the eigenvector corresponding to the eigenvalue of matrix $A$. After we know the according eigenvalues and eigenvectors, we can do eigendecompositionn to the matrix $A$. Now we have n eigenvalues of matrix $A$: $\\lambda_1 \\leq \\lambda_2 \\leq \\cdots \\leq \\lambda_n$ and the according eigenvectors {$w_1,w_2,\\cdots,w_n$}, if the n eigenvectors are linearly independent, then the matrix can be eigendecomposed as $A = W\\Sigma W^{-1}$.\n",
    "\n",
    "$W$ is an *n* $\\times$ *n* matrix composed of the n eigenvectors and $\\Sigma$ is the *n* $\\times$ *n* matrix with n eigenvalues on its main diagonal. Generaly, we will normalize the n eigenvectors in matrix $W$, namely satisefying $||w_i||_2 = 1$, or $w_i^T w_i = 1$. At this time, the eigenvectors of $W$ are the standard orthogonal bases, satisefying $W^TW=I$, namely $W^T = W^{-1}$. Then we can rewrite the eigendecomposition of matrix A: $A = W\\Sigma W^T$.\n",
    "\n",
    "To clarify one important point of eigendecomposition: the matrix $A$ must be a square matrix. So another question comes up: if the matrix $A$ is not a square matrix which means that the numbers of columns and rows are not the same, can we decompose the matrix $A$? The answer is definitely yes, and it just introduces the main topic SVD(singular value decomposition).\n"
   ]
  },
  {
   "cell_type": "markdown",
   "metadata": {},
   "source": [
    "### Definition of SVD"
   ]
  },
  {
   "cell_type": "markdown",
   "metadata": {},
   "source": [
    "SVD is another method to decompose a matrix. Different from the eigen decomposition, SVD does not require the decomposed matrix to be the square one. Assume we have an *m* $\\times$ *n* matrix A, then we can define SVD of matrix $A$ as: $A = U\\Sigma V^T$. The matrix $U$ is an *m* $\\times$ *m* matrix. The matrix $\\Sigma$ is an *m* $\\times$ *n* matrix with singular values on the main diagonal. The matrix $V$ is an *n* $\\times$ *n* matrix. The matrix $U$ and $V$ satisefy $U^TU=I$ and $V^TV=I$. The following image can express the decomposition clearly."
   ]
  },
  {
   "cell_type": "markdown",
   "metadata": {},
   "source": [
    "<center><img src=\"images/svd-def.png\" width=\"600\"></img></center>"
   ]
  },
  {
   "cell_type": "markdown",
   "metadata": {},
   "source": [
    "We all know that the matrix A here is not a square matrix, so we can do the matrix multiplication of the transpose of A and A. Then we can get an *n* x *n* matrix $A^TA$. Since the new created matrix $A^TA$ is a square one, we can do the eigen decomposition to them. Then the following formula can represent the process: $(A^TA)v_i = \\lambda_iv_i$. According the formula, we can get the n eigenvalues and the n according eigenvectors $\\boldsymbol{v}$. We can get the matrix $V$ using all eigenvectors of $A^TA$, the matrix $V$ is just the same $V$ in the formula of SVD. Generally, we call each eigenvector in matrix $V$ *the right singular vector* of $A$.\n",
    "\n",
    "The same idea as above, but we will do all same step to $AA^T$. Then we can get $(AA^T)v_i = \\lambda_iu_i$. Similarly, we call each eigenvector in matrix $U$ *the left singular vector* of $A$.\n",
    "\n",
    "Now we can solve $U$ and $V$, the only problem is how to calculate the singular matrix $\\Sigma$. We know that $\\Sigma$ only has the singular values on the main diagonal and all other positions with value 0. So we only need to solve each singular value $\\sigma$. We can know that:\n",
    "$$\n",
    "A = U\\Sigma V^T \\Rightarrow AV = U\\Sigma V^TV \\Rightarrow AV = U\\Sigma \\Rightarrow Av_i = \\sigma_iu_i\\Rightarrow \\sigma_i = Av_i/u_i\n",
    "$$\n",
    "\n",
    "We can also verify that the eigenvectors of $A^TA$ and $AA^T$ make up the matrix $V$ and matrix $U$ in SVD using the following formula:\n",
    "$$\n",
    "A = U\\Sigma V^T \\Rightarrow A^T = V\\Sigma^T U^T \\Rightarrow A^TA = V\\Sigma^T U^T U \\Sigma V^T = V\\Sigma^2V^T\n",
    "$$\n",
    "From the above formula, we can see that $U^TU=I$ and $\\Sigma^T\\Sigma = \\Sigma^2$. Similarly, we can get that the eigenvectors matrix equals to the square of singular value vectors matrix which means we can know the relationship between the eigenvalues and singular values: $\\sigma_i = \\sqrt{\\lambda_i}$."
   ]
  },
  {
   "cell_type": "markdown",
   "metadata": {},
   "source": [
    "If you want to learn more about the process of SVD, please refer to\n",
    "> DataGymnasia:\n",
    "https://mathigon.org/course/linear-algebra/singular-value-decomposition"
   ]
  },
  {
   "cell_type": "markdown",
   "metadata": {},
   "source": [
    "### Properties of SVD"
   ]
  },
  {
   "cell_type": "markdown",
   "metadata": {},
   "source": [
    "Similar to the eigenvalues in eigen decomposition, the singular values arrange from larger to small in the singular values matrix, also the values decrease fast. That is to say, the sum of first 20% or even 1% of the whole singular values will account for more than 99% of the sum of all singular values generally. In another word, the useful property of SVD is that we can use the largest $k$ singular values and the corresponding sigular vectors to approximately represent the target matrix. The whole process can be represented as the following formula:\n",
    "$$\n",
    "A_{mxn} = U_{mxm}\\Sigma_{mxn}V^T_{nxn}\\approx U_{mxk}\\Sigma_{kxk}V^T_{kxn}\n",
    "$$\n",
    "$k$ is much smaller than $n$, so the large target matrix $A$ can be represented by three small matrices $U_{mxk}$,$\\Sigma_{kxk}$,$V^T_{kxn}$. We can use a diagram to represent the process."
   ]
  },
  {
   "cell_type": "markdown",
   "metadata": {},
   "source": [
    "<center><img src=\"images/svd-property.png\" width=\"600\"></img></center>"
   ]
  },
  {
   "cell_type": "markdown",
   "metadata": {},
   "source": [
    "## Mathematical Theory of PCA"
   ]
  },
  {
   "cell_type": "markdown",
   "metadata": {},
   "source": [
    "The meaning of PCA(principle component analysis is to find the most inportant part of data to substitute the raw data. PCA is one of the most important dimension reduction methods. In detail, assume we have an $n$ dimension dataset with m data $(x_1,x_2,\\cdots,x_m)$. We want to reduce the dimensions of this data from $n$ dimensions to $k$ dimensions, and hope the $k$ dimensions data can best represent the raw data. The loss cannot be inevitable during the dimension reduction process, so we want to minimaize the loss. "
   ]
  },
  {
   "cell_type": "markdown",
   "metadata": {},
   "source": [
    "We can see a very easy condition where $n$=2 and $k$=1. That is to say, the task is to reduce the dimensions of the data from 2 to 1. The data are shown as below. "
   ]
  },
  {
   "cell_type": "markdown",
   "metadata": {},
   "source": [
    "<center><img src=\"images/pca-2d-1d.png\" width=\"600\"></img></center>"
   ]
  },
  {
   "cell_type": "markdown",
   "metadata": {},
   "source": [
    "According to the diagram above, we want to find one dimension to represent the 2-d data. We have two vectors listed in the diagram $\\mu_1$ and $\\mu_2$. Obviously, we will choose $\\mu_1$. There are two main reasons. One is that the projections of the data on the line of $\\mu_1$ direction will be best separate, the other is that the distances from the sample data to the line are enough small. If we want to make the $k$ from $1$ dimension to any dimensions, the criteria have the same thoughts: the projections of sample data on the hyperplane must be separatable enough and the distances between sample data and the hyperplane must be small enough."
   ]
  },
  {
   "cell_type": "markdown",
   "metadata": {},
   "source": [
    "### Derivation and Calculation of PCA\n",
    "> Based on Eigenvalues"
   ]
  },
  {
   "cell_type": "markdown",
   "metadata": {},
   "source": [
    "Assume we have $m$ $n$-dimension data $(x_1, x_2, \\cdots, x_m$ with centralization, which means that the sum of the $m$ data is $0$. All $m$ data satisefy that $\\sum_{i=1}^{m}{x_i}$=$0$. Also, we can assume that the new coordinate system with the bases after the projection transformation will be {$\\boldsymbol {w_1, w_2, \\cdots, w_n}$}, and $\\boldsymbol w$ is the orthonormal basis. What we want to do in PCA is to reduce the dimensions from $n$ to $k$, which means that we need to drop some useless coordinates and create a new coordinate system {$\\boldsymbol {w_1, w_2, \\cdots, w_k}$}. Then one of the sample data $x_i$ will have the expression for its projection in this $k$-dimension coordinate system: $p_i$ = $(p_{i1}, p_{i2}, \\cdots, p_{ik})^T$, and $p_{ij}$=$w_j^T x_i$ which means that the it is the coordinate of $x_i$ in the $j$th dimension of the original $n$-dimension coordinate system, namely $w_j$."
   ]
  },
  {
   "cell_type": "markdown",
   "metadata": {},
   "source": [
    "For any sample data $x_i$, it has the projection $W^Tx_i$ and the projection variance $x_iWW^Tx_i$. We want to maximize the sum of the projection variance of all sample data, so we will maximize the trace of $\\sum_{i=1}^{m}{W^Tx_ix_i^TW}$, the following formula represents the whole thing:\n",
    "\n",
    "Objective function: ${argmax}$ $tr(W^TXX^TW)$\n",
    "\n",
    "Constarint function: $ W^TW = I$\n",
    "\n",
    "To solve the above optimization problem, we can introduce the Lagrange multiplier $\\lambda$, so we can get the new Lagrange function:\n",
    "$$\n",
    "L(W) = tr(W^TXX^TW + \\lambda(W^TW-I))\n",
    "$$\n",
    "Then we can do the derivative for argument $W$ and we can get that:\n",
    "$$\n",
    "XX^TW + \\lambda W = 0 \\Rightarrow XX^TW = -\\lambda W\n",
    "$$"
   ]
  },
  {
   "cell_type": "markdown",
   "metadata": {},
   "source": [
    "Interestingly, we can find that the expression is very similar to the eigen decomposition, so we can do some conclusions about the matrix $XX^T$ and the meaning of $-\\lambda$. We can say that $W$ is the matrix which consists of the $k$ eigenvectors of matrix $XX^T$ and $-\\lambda$ is just the eigenvalue matrix with eigenvalues on the diagonal and $0$ on other positions. When we want to do the dimension reduction, we just need to find the corresponding eigenvectors of the $k$ biggest eigenvalues. The $k$ eigenvectors just construct the needed matrix $W$."
   ]
  },
  {
   "cell_type": "markdown",
   "metadata": {},
   "source": [
    "If you want to learn more about the process of PCA, please refer to\n",
    ">wikipedia: https://en.wikipedia.org/wiki/Principal_component_analysis"
   ]
  },
  {
   "cell_type": "markdown",
   "metadata": {},
   "source": [
    "### Mathematical Example of PCA\n",
    "> Based on Eigenvalues"
   ]
  },
  {
   "cell_type": "markdown",
   "metadata": {},
   "source": [
    "I want to give an easy example that can represent the process of PCA clearly and understandably.\n",
    "\n",
    "Assume we have a matrix $X$ = $\\left\\lgroup\\begin{matrix}-1 & -1 & 0 & 2 & 0 \\cr -2 & 0 & 0 & 1 & 1\\end{matrix}\\right\\rgroup$, we want to use PCA to make the $2$-dimension data to $1$-dimension."
   ]
  },
  {
   "cell_type": "code",
   "execution_count": 2,
   "metadata": {},
   "outputs": [
    {
     "data": {
      "text/plain": [
       "2×5 Array{Int64,2}:\n",
       " -1  -1  0  2  0\n",
       " -2   0  0  1  1"
      ]
     },
     "execution_count": 2,
     "metadata": {},
     "output_type": "execute_result"
    }
   ],
   "source": [
    "X = [-1 -1 0 2 0; -2 0 0 1 1]"
   ]
  },
  {
   "cell_type": "markdown",
   "metadata": {},
   "source": [
    "- Make sure the target matrix is centralization."
   ]
  },
  {
   "cell_type": "code",
   "execution_count": 7,
   "metadata": {},
   "outputs": [
    {
     "name": "stdout",
     "output_type": "stream",
     "text": [
      "0.0\n",
      "0.0\n"
     ]
    }
   ],
   "source": [
    "println(mean(X[1,:]))\n",
    "println(mean(X[2,:]))"
   ]
  },
  {
   "cell_type": "markdown",
   "metadata": {},
   "source": [
    "We can find that the mean value of each line of the matrix $X$ is $0$, so we do not need to do any change."
   ]
  },
  {
   "cell_type": "markdown",
   "metadata": {},
   "source": [
    "- Calculate the covariance matrix."
   ]
  },
  {
   "cell_type": "markdown",
   "metadata": {},
   "source": [
    "The covariance matrix is $\\frac{1}{n}XX^T$. (the use of $\\frac{1}{n}$ or $\\frac{1}{n-1}$ does not have too much influence)"
   ]
  },
  {
   "cell_type": "code",
   "execution_count": 12,
   "metadata": {},
   "outputs": [
    {
     "data": {
      "text/plain": [
       "2×2 Array{Float64,2}:\n",
       " 1.2  0.8\n",
       " 0.8  1.2"
      ]
     },
     "execution_count": 12,
     "metadata": {},
     "output_type": "execute_result"
    }
   ],
   "source": [
    "cXXᵀ = 1/length(X[1,:]) * X * X'"
   ]
  },
  {
   "cell_type": "markdown",
   "metadata": {},
   "source": [
    "The whole calculation of the covariance process is \n",
    "$$\n",
    "cXX^T = \\frac{1}{5} \\left\\lgroup\\begin{matrix}-1 & -1 & 0 & 2 & 0 \\cr -2 & -0 & 0 & 1 & 1\\end{matrix}\\right\\rgroup \\left\\lgroup\\begin{matrix}-1 & -2 \\cr -1 & 0 \\cr 0 & 0 \\cr 2 & 1 \\cr 0 & 1 \\end{matrix}\\right\\rgroup = \\left\\lgroup\\begin{matrix}1.2 & 0.8 \\cr 0.8 & 1.2\\end{matrix}\\right\\rgroup\n",
    "$$"
   ]
  },
  {
   "cell_type": "markdown",
   "metadata": {},
   "source": [
    "- Calculate the eigenvalues and eigenvectors of the covariance matrix."
   ]
  },
  {
   "cell_type": "code",
   "execution_count": 13,
   "metadata": {},
   "outputs": [
    {
     "data": {
      "text/plain": [
       "2-element Array{Float64,1}:\n",
       " 0.4\n",
       " 2.0"
      ]
     },
     "execution_count": 13,
     "metadata": {},
     "output_type": "execute_result"
    }
   ],
   "source": [
    "eigvals(cXXᵀ)"
   ]
  },
  {
   "cell_type": "code",
   "execution_count": 19,
   "metadata": {},
   "outputs": [
    {
     "data": {
      "text/plain": [
       "2×2 Array{Float64,2}:\n",
       " -0.707107  0.707107\n",
       "  0.707107  0.707107"
      ]
     },
     "execution_count": 19,
     "metadata": {},
     "output_type": "execute_result"
    }
   ],
   "source": [
    "P = -eigvecs(cXXᵀ)"
   ]
  },
  {
   "cell_type": "markdown",
   "metadata": {},
   "source": [
    "By calculation, we can get that the eigenvalues are $\\lambda_1=2$ and $\\lambda_2=0.4$. The corrsponding eigenvectors are $v_1$ = $\\left\\lgroup\\begin{matrix}\\frac{1}{\\sqrt 2} \\cr \\frac{1}{\\sqrt 2}\\end{matrix}\\right\\rgroup$ and $v_2$ = $\\left\\lgroup\\begin{matrix}-\\frac{1}{\\sqrt 2} \\cr \\frac{1}{\\sqrt 2}\\end{matrix}\\right\\rgroup$, then we can get the matrix $P$ =  $\\left\\lgroup\\begin{matrix}\\frac{1}{\\sqrt 2} \\frac{1}{\\sqrt 2} \\cr -\\frac{1}{\\sqrt 2} \\frac{1}{\\sqrt 2}\\end{matrix}\\right\\rgroup$."
   ]
  },
  {
   "cell_type": "markdown",
   "metadata": {},
   "source": [
    "- Get the dimension reduction reuslt"
   ]
  },
  {
   "cell_type": "markdown",
   "metadata": {},
   "source": [
    "We need to get the $1$-dimention result, so we only get the eigenvector corresponding to the largest eigenvalue. "
   ]
  },
  {
   "cell_type": "markdown",
   "metadata": {},
   "source": [
    "We can use `julia` to get the same result, and also we can have a very clear diagram to see the whole process."
   ]
  },
  {
   "cell_type": "code",
   "execution_count": 128,
   "metadata": {},
   "outputs": [],
   "source": [
    "Y = P*X\n",
    "Y[2,:]\n",
    "using Plots\n",
    "p = scatter(X[1,:],X[2,:], label=\"raw points\")\n",
    "plot!(-3:0.01:3, x->x, label=\"projection plane\")\n",
    "raw_p = Tuple.([[-1,-2],[-1,0],[0,0],[0,1],[2,1]])\n",
    "proj_p = Tuple.([[-1.5,-1.5],[-0.5,-0.5],[0,0],[0.5,0.5],[1.5,1.5]])\n",
    "scatter!(proj_p, opacity=0.5, color=\"pink\", label=\"proj_points\")\n",
    "for i in 1:5\n",
    "    plot!(p,[raw_p[i],proj_p[i]],arrow=arrow(), color=\"purple\", label=\"\")\n",
    "end\n",
    "p\n",
    "savefig(p, \"pca-example.png\");"
   ]
  },
  {
   "cell_type": "markdown",
   "metadata": {},
   "source": [
    "<center><img src=\"images/pca-example.png\" width=\"600\"></img></center>"
   ]
  },
  {
   "cell_type": "markdown",
   "metadata": {},
   "source": [
    "## Relationship between SVD and PCA"
   ]
  },
  {
   "cell_type": "markdown",
   "metadata": {},
   "source": [
    "Generally speaking, if we want to use PCA to reduce dimensions, we want to find the $k$ eigenvectors corresponding to the $k$ largest eigenvalues of the covariance matrix $\\frac{1}{n}X^TT$. Then we can use the projection matrix consisting of the $k$ eigenvectors as the projection hyperplane. From the process, we can know that it is inevitable that we always need to get the result of the covariance matrix $\\frac{1}{n}X^TX$. But when the features of the sample data are very large, the calculation process will both time comsuming and space consuming. "
   ]
  },
  {
   "cell_type": "markdown",
   "metadata": {},
   "source": [
    "We can also use SVD to get the projection matrix using the $k$ eigenvectors. But the reason why I want to mention about the advantages of SVD is that some algorithms of SVD can still get the result of right sigular matrix $V$ without calculating the covariance matrix $\\frac{1}{n}X^TX$. That is to say, our PCA algorithms do not need to do the eigen decomposition, instead, we can let SVD to complete this. This method is very effective and efficient when the sample data are very large. "
   ]
  },
  {
   "cell_type": "markdown",
   "metadata": {},
   "source": [
    "#### Write the mathematical process in relation csdn.\n",
    "> https://blog.csdn.net/Dark_Scope/article/details/53150883"
   ]
  },
  {
   "cell_type": "markdown",
   "metadata": {},
   "source": [
    "There is another interesting aspect deserves exploration. We can find that PCA only use the right singular matrix $V$ of SVD, so we may ask whether the left one is useless. The answer is definitely no. We can assume a sample data matrix which is *m* $\\times$ *n*. Then we find the left singular matrix $U$ using the $k$ eigenvectors of matrix $\\frac{1}{n}XX^T$ from SVD, then we can a new matrix $X^l$:\n",
    "$$\n",
    "X^l_{k\\times n} = U^T_{k\\times m}X_{m\\times n}\n",
    "$$\n",
    "We can easily find that the new matrix $X^l$ has the rows from $m$ to $k$ compared to the raw matrix $X$. So we can get the conclusion that the left singular matrix can condense the rows number while the right singular matrix can condense the columns which is often used in PCA."
   ]
  },
  {
   "cell_type": "code",
   "execution_count": null,
   "metadata": {},
   "outputs": [],
   "source": []
  },
  {
   "cell_type": "markdown",
   "metadata": {},
   "source": [
    "Generally speaking, SVD creates a square matrix via constructing the original data matrix A and the expression ${A^{T}} \\cdot A$."
   ]
  },
  {
   "cell_type": "code",
   "execution_count": null,
   "metadata": {},
   "outputs": [],
   "source": []
  }
 ],
 "metadata": {
  "kernelspec": {
   "display_name": "Julia 1.5.1",
   "language": "julia",
   "name": "julia-1.5"
  },
  "language_info": {
   "file_extension": ".jl",
   "mimetype": "application/julia",
   "name": "julia",
   "version": "1.5.1"
  }
 },
 "nbformat": 4,
 "nbformat_minor": 4
}
